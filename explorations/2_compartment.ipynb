{
 "cells": [
  {
   "cell_type": "code",
   "execution_count": 14,
   "metadata": {},
   "outputs": [],
   "source": [
    "import numpy as np\n",
    "from scipy.integrate import solve_ivp\n",
    "from matplotlib import pyplot as plt"
   ]
  },
  {
   "cell_type": "code",
   "execution_count": 15,
   "metadata": {},
   "outputs": [],
   "source": [
    "class TwoCompartmentModel:\n",
    "    \"\"\"\n",
    "    Two compartment model, with additional GI compartment and elimination from C1.\n",
    "\n",
    "    T------T          T------T          T------T\n",
    "    |      |          |      |          |      |\n",
    "    |  GI  | --k_a--> | C1   | --k12--> |  C2  |\n",
    "    |      |          |      | <-k21--- |      |\n",
    "    L------L          L------L          L------L\n",
    "                        |\n",
    "                        | k_e\n",
    "                        |\n",
    "                        V\n",
    "                    (Eliminated)\n",
    "    \n",
    "    \"\"\"\n",
    "    def __init__(self,\n",
    "                 ka: float,\n",
    "                 k12: float,\n",
    "                 k21: float,\n",
    "                 ke: float):\n",
    "        self.ka = ka\n",
    "        self.k12 = k12\n",
    "        self.k21 = k21\n",
    "        self.ke = ke\n",
    "\n",
    "        self.C1 = 0\n",
    "        self.C2 = 0\n",
    "        self.GI = 0\n",
    "\n",
    "    def set_initial_conditions(self, C1: float, C2: float, GI: float):\n",
    "        self.C1 = C1\n",
    "        self.C2 = C2\n",
    "        self.GI = GI\n",
    "\n",
    "    def get_initial_conditions(self):\n",
    "        return self.C1, self.C2, self.GI\n",
    "    \n",
    "    def get_clearance(self):\n",
    "        return self.ke\n",
    "    \n",
    "    def get_rate_constants(self):\n",
    "        return self.ka, self.k12, self.k21\n",
    "    \n",
    "    def get_concentrations(self):\n",
    "        return self.C1, self.C2, self.GI\n",
    "    \n",
    "    def right_hand_side(self, t, y):\n",
    "        C1, C2, GI = y\n",
    "\n",
    "        dC1dt = self.ka * GI - (self.k12 + self.ke) * C1\n",
    "        dC2dt = self.k12 * C1 - self.k21 * C2\n",
    "        dGIdt = -self.ka * GI\n",
    "\n",
    "        return [dC1dt, dC2dt, dGIdt]\n",
    "\n",
    "    def simulate(self, t):\n",
    "\n",
    "        y0 = [self.C1, self.C2, self.GI]\n",
    "        sol = solve_ivp(self.right_hand_side, [t[0], t[-1]], y0, method='RK45')\n",
    "\n",
    "        return sol.t, sol.y\n",
    "\n",
    "        "
   ]
  },
  {
   "cell_type": "code",
   "execution_count": 16,
   "metadata": {},
   "outputs": [
    {
     "data": {
      "text/plain": [
       "<matplotlib.legend.Legend at 0x126021f90>"
      ]
     },
     "execution_count": 16,
     "metadata": {},
     "output_type": "execute_result"
    },
    {
     "data": {
      "image/png": "[encoded data removed]",
      "text/plain": [
       "<Figure size 640x480 with 1 Axes>"
      ]
     },
     "metadata": {},
     "output_type": "display_data"
    }
   ],
   "source": [
    "\n",
    "twoC = TwoCompartmentModel(ka=1, k12=1, k21=1, ke=1)\n",
    "twoC.set_initial_conditions(C1=0, C2=0, GI=5)\n",
    "\n",
    "t, y = twoC.simulate([0, 10])\n",
    "\n",
    "\n",
    "plt.plot(t, y[0], label='C1')\n",
    "plt.plot(t, y[1], label='C2')\n",
    "plt.plot(t, y[2], label='GI')\n",
    "\n",
    "plt.legend()"
   ]
  },
  {
   "cell_type": "code",
   "execution_count": null,
   "metadata": {},
   "outputs": [],
   "source": []
  }
 ],
 "metadata": {
  "kernelspec": {
   "display_name": "pisces",
   "language": "python",
   "name": "python3"
  },
  "language_info": {
   "codemirror_mode": {
    "name": "ipython",
    "version": 3
   },
   "file_extension": ".py",
   "mimetype": "text/x-python",
   "name": "python",
   "nbconvert_exporter": "python",
   "pygments_lexer": "ipython3",
   "version": "3.11.7"
  }
 },
 "nbformat": 4,
 "nbformat_minor": 2
}
